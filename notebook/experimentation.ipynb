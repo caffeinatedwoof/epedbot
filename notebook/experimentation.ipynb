{
 "cells": [
  {
   "cell_type": "code",
   "execution_count": 12,
   "metadata": {},
   "outputs": [],
   "source": [
    "from langchain.document_loaders import PyPDFLoader\n",
    "from langchain.embeddings.openai import OpenAIEmbeddings\n",
    "from langchain.vectorstores import FAISS"
   ]
  },
  {
   "cell_type": "code",
   "execution_count": 2,
   "metadata": {},
   "outputs": [],
   "source": [
    "loader = PyPDFLoader(\"../data/pdf_data/epedagogy-guide.pdf\")\n",
    "pages = loader.load_and_split()"
   ]
  },
  {
   "cell_type": "code",
   "execution_count": 3,
   "metadata": {},
   "outputs": [],
   "source": [
    "import tiktoken\n",
    "\n",
    "# create a GPT-3.5 encoder instance, can use other models as well\n",
    "enc = tiktoken.encoding_for_model(\"gpt-3.5-turbo\")"
   ]
  },
  {
   "cell_type": "code",
   "execution_count": 4,
   "metadata": {},
   "outputs": [
    {
     "name": "stdout",
     "output_type": "stream",
     "text": [
      "\n",
      "Total word count: 11487\n",
      "\n",
      "Estimated tokens: 16982\n",
      "\n",
      "Estimated cost of embedding: $0.033964\n"
     ]
    }
   ],
   "source": [
    "# estimate the number of words and tokens. Check the cost of embedding in case it's too expensive\n",
    "est_total_word_count = sum(len(doc.page_content.split()) for doc in pages)\n",
    "est_total_token_count = sum(len(enc.encode(doc.page_content)) for doc in pages)\n",
    "\n",
    "print(f\"\\nTotal word count: {est_total_word_count}\")\n",
    "print(f\"\\nEstimated tokens: {est_total_token_count}\")\n",
    "print(f\"\\nEstimated cost of embedding: ${est_total_token_count * 0.002 / 1000}\") # 0.002 is the cost per 1k tokens"
   ]
  },
  {
   "cell_type": "code",
   "execution_count": 6,
   "metadata": {},
   "outputs": [],
   "source": [
    "# Turn the PDF into embeddings, then store them in a FAISS index\n",
    "\n",
    "embeddings = OpenAIEmbeddings()\n",
    "vector_store = FAISS.from_documents(pages, embeddings)"
   ]
  },
  {
   "cell_type": "code",
   "execution_count": 7,
   "metadata": {},
   "outputs": [],
   "source": [
    "# Show the most similar documents to the query\n",
    "search_result = vector_store.similarity_search_with_score(\"who is this pdf for?\")"
   ]
  },
  {
   "cell_type": "code",
   "execution_count": 14,
   "metadata": {},
   "outputs": [],
   "source": [
    "vector_store.save_local(\"...data/vector_data\")"
   ]
  },
  {
   "cell_type": "code",
   "execution_count": null,
   "metadata": {},
   "outputs": [],
   "source": []
  }
 ],
 "metadata": {
  "kernelspec": {
   "display_name": "epedbot",
   "language": "python",
   "name": "python3"
  },
  "language_info": {
   "codemirror_mode": {
    "name": "ipython",
    "version": 3
   },
   "file_extension": ".py",
   "mimetype": "text/x-python",
   "name": "python",
   "nbconvert_exporter": "python",
   "pygments_lexer": "ipython3",
   "version": "3.9.16"
  },
  "orig_nbformat": 4
 },
 "nbformat": 4,
 "nbformat_minor": 2
}
